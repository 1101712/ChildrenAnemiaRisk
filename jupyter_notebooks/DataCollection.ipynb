{
  "cells": [
    {
      "cell_type": "markdown",
      "metadata": {
        "id": "0aStgWSO0E0E"
      },
      "source": [
        "# **Data Collection**"
      ]
    },
    {
      "cell_type": "markdown",
      "metadata": {
        "id": "1eLEkw5O0ECa"
      },
      "source": [
        "## Objectives\n",
        "\n",
        "- Downloading and Initial Analysis of the ChildrenAnemia.csv Dataset:     \n",
        "Acquiring raw data from Kaggle and performing an initial exploration to understand the dataset's structure, content, and basic statistical summaries using df.info() and other exploratory data analysis methods.\n",
        "\n",
        "- Checking for Duplicate Column Names:  \n",
        "Ensuring that the dataset does not have any columns with duplicate names, which could lead to confusion and errors in data analysis.\n",
        "\n",
        "- Documentation of the Data Collection Process:  \n",
        "Providing a comprehensive description of the steps and decisions taken during data collection, to guarantee the reproducibility and clarity of the process.\n",
        "\n",
        "\n",
        "## Inputs\n",
        "\n",
        "- Kaggle authentication token (kaggle.json) for access to datasets on Kaggle.\n",
        "\n",
        "\n",
        "## Process\n",
        "\n",
        "- Using the Kaggle API to download the ChildrenAnemia.csv dataset.\n",
        "- Initial data analysis and preparation for further analysis.\n",
        "\n",
        "## Outputs\n",
        "\n",
        "- Generate Dataset: outputs/datasets/collection/ChildrenAnemia.csv\n",
        "\n",
        "## Additional Comments\n",
        "\n",
        "- In a professional setting, project data typically originates from various sources, often combining internal data (such as from company-owned data warehouses) and external data. Unlike this educational project where we are sourcing data from Kaggle, real-world projects involve a more complex data acquisition process.\n",
        "- It's also important to note that in a business environment, due to confidentiality and security concerns, data is rarely, if ever, stored or shared through public repositories. This project, designed for learning purposes, is an exception where we use a public repository for ease of access and demonstration.\n",
        "- In a real-world scenario, it is standard practice to add the directories such as inputs/datasets/raw and outputs/datasets/ to the .gitignore file. This is to ensure that sensitive data, particularly data owned by a client, is not inadvertently pushed to a public repository without explicit consent. However, for the purpose of this project's evaluation and to ensure the seamless operation of Jupyter notebooks for reviewers, these directories will be kept within the repository's version control.\n"
      ]
    },
    {
      "cell_type": "markdown",
      "metadata": {
        "id": "9uWZXH9LwoQg"
      },
      "source": [
        "---"
      ]
    },
    {
      "cell_type": "markdown",
      "metadata": {
        "id": "cqP-UeN-z3i2"
      },
      "source": [
        "# Change working directory"
      ]
    },
    {
      "cell_type": "markdown",
      "metadata": {},
      "source": [
        "We store our Jupyter notebooks in a subfolder of the project. Therefore, when we run the notebooks in the editor, we need to change the working directory. This is necessary to ensure proper access to data files and other project resources that might be located outside the notebook's subfolder."
      ]
    },
    {
      "cell_type": "markdown",
      "metadata": {
        "id": "aOGIGS-uz3i2"
      },
      "source": [
        "We need to change the working directory from its current folder to its parent folder\n",
        "- To access the current working directory, we use the os.getcwd() command. "
      ]
    },
    {
      "cell_type": "markdown",
      "metadata": {},
      "source": []
    },
    {
      "cell_type": "code",
      "execution_count": 1,
      "metadata": {
        "id": "wZfF_j-Bz3i4",
        "outputId": "66943449-1436-4c3d-85c7-b85f9f78349b"
      },
      "outputs": [
        {
          "data": {
            "text/plain": [
              "'/workspace/ChildrenAnemiaRisk/jupyter_notebooks'"
            ]
          },
          "execution_count": 1,
          "metadata": {},
          "output_type": "execute_result"
        }
      ],
      "source": [
        "import os\n",
        "current_dir = os.getcwd()\n",
        "current_dir"
      ]
    },
    {
      "cell_type": "markdown",
      "metadata": {
        "id": "9MWW8E7lz3i7"
      },
      "source": [
        "Then, we change the working directory from its current folder to its parent folder to facilitate the correct file path references within our notebooks.\n",
        "* os.path.dirname() gets the parent directory\n",
        "* os.chir() defines the new current directory"
      ]
    },
    {
      "cell_type": "code",
      "execution_count": 2,
      "metadata": {
        "id": "TwHsQRWjz3i9",
        "outputId": "86849db3-cd2f-4cc5-ebb8-2d0caafa1a2c"
      },
      "outputs": [
        {
          "name": "stdout",
          "output_type": "stream",
          "text": [
            "You set a new current directory\n"
          ]
        }
      ],
      "source": [
        "os.chdir(os.path.dirname(current_dir))\n",
        "print(\"You set a new current directory\")"
      ]
    },
    {
      "cell_type": "markdown",
      "metadata": {
        "id": "M_xPk_Ijz3i-"
      },
      "source": [
        "Confirm the new current directory"
      ]
    },
    {
      "cell_type": "code",
      "execution_count": 3,
      "metadata": {
        "id": "vz3S-_kjz3jA",
        "outputId": "00b79ae4-75d0-4a96-d193-ac9ef9847ea2"
      },
      "outputs": [
        {
          "data": {
            "text/plain": [
              "'/workspace/ChildrenAnemiaRisk'"
            ]
          },
          "execution_count": 3,
          "metadata": {},
          "output_type": "execute_result"
        }
      ],
      "source": [
        "current_dir = os.getcwd()\n",
        "current_dir"
      ]
    },
    {
      "cell_type": "markdown",
      "metadata": {
        "id": "ZY3l0-AxO93d"
      },
      "source": [
        "---"
      ]
    },
    {
      "cell_type": "markdown",
      "metadata": {
        "id": "uFQo3ycuO-v6"
      },
      "source": [
        "# Fetch data from Kaggle\n",
        "Install kaggle package to fetch data"
      ]
    },
    {
      "cell_type": "code",
      "execution_count": 4,
      "metadata": {},
      "outputs": [
        {
          "name": "stdout",
          "output_type": "stream",
          "text": [
            "Requirement already satisfied: kaggle==1.5.12 in ./.venv/lib/python3.12/site-packages (1.5.12)\n",
            "Requirement already satisfied: six>=1.10 in ./.venv/lib/python3.12/site-packages (from kaggle==1.5.12) (1.16.0)\n",
            "Requirement already satisfied: certifi in ./.venv/lib/python3.12/site-packages (from kaggle==1.5.12) (2023.11.17)\n",
            "Requirement already satisfied: python-dateutil in ./.venv/lib/python3.12/site-packages (from kaggle==1.5.12) (2.8.2)\n",
            "Requirement already satisfied: requests in ./.venv/lib/python3.12/site-packages (from kaggle==1.5.12) (2.31.0)\n",
            "Requirement already satisfied: tqdm in ./.venv/lib/python3.12/site-packages (from kaggle==1.5.12) (4.66.1)\n",
            "Requirement already satisfied: python-slugify in ./.venv/lib/python3.12/site-packages (from kaggle==1.5.12) (8.0.1)\n",
            "Requirement already satisfied: urllib3 in ./.venv/lib/python3.12/site-packages (from kaggle==1.5.12) (2.1.0)\n",
            "Requirement already satisfied: text-unidecode>=1.3 in ./.venv/lib/python3.12/site-packages (from python-slugify->kaggle==1.5.12) (1.3)\n",
            "Requirement already satisfied: charset-normalizer<4,>=2 in ./.venv/lib/python3.12/site-packages (from requests->kaggle==1.5.12) (3.3.2)\n",
            "Requirement already satisfied: idna<4,>=2.5 in ./.venv/lib/python3.12/site-packages (from requests->kaggle==1.5.12) (3.6)\n",
            "Note: you may need to restart the kernel to use updated packages.\n"
          ]
        }
      ],
      "source": [
        "%pip install kaggle==1.5.12"
      ]
    },
    {
      "cell_type": "markdown",
      "metadata": {},
      "source": [
        "Please note that to run this section, you must first upload your personal kaggle.json file into the workspace. This file is necessary for authenticating your requests to Kaggle. In this code block, we're setting up the KAGGLE_CONFIG_DIR environment variable to point to the project's directory. Additionally, we modify the file permissions of kaggle.json to make it readable for all users. This step is crucial to ensure that requests to the Kaggle API are processed correctly."
      ]
    },
    {
      "cell_type": "code",
      "execution_count": 30,
      "metadata": {},
      "outputs": [],
      "source": [
        "os.environ['KAGGLE_CONFIG_DIR'] = os.getcwd()\n",
        "! chmod 600 kaggle.json"
      ]
    },
    {
      "cell_type": "markdown",
      "metadata": {},
      "source": [
        "Now, we'll set the path for the Kaggle dataset and create a specific directory for it. Following that, we'll execute a command through Kaggle's interface to download the dataset into this newly created directory."
      ]
    },
    {
      "cell_type": "code",
      "execution_count": 31,
      "metadata": {},
      "outputs": [
        {
          "name": "stdout",
          "output_type": "stream",
          "text": [
            "Downloading factors-affecting-children-anemia-level.zip to inputs/datasets/raw\n",
            "100%|████████████████████████████████████████| 258k/258k [00:00<00:00, 1.05MB/s]\n",
            "100%|████████████████████████████████████████| 258k/258k [00:00<00:00, 1.04MB/s]\n"
          ]
        }
      ],
      "source": [
        "KaggleDatasetPath = \"adeolaadesina/factors-affecting-children-anemia-level\"\n",
        "DestinationFolder = \"inputs/datasets/raw\"\n",
        "if not os.path.isdir(DestinationFolder):\n",
        "    os.makedirs(DestinationFolder)\n",
        "\n",
        "! kaggle datasets download -d {KaggleDatasetPath} -p {DestinationFolder}"
      ]
    },
    {
      "cell_type": "markdown",
      "metadata": {},
      "source": [
        "Unzip the downloaded file, delete the zip file and delete the kaggle.json file"
      ]
    },
    {
      "cell_type": "code",
      "execution_count": 32,
      "metadata": {},
      "outputs": [
        {
          "name": "stdout",
          "output_type": "stream",
          "text": [
            "Archive:  inputs/datasets/raw/factors-affecting-children-anemia-level.zip\n",
            "  inflating: inputs/datasets/raw/children anemia.csv  \n"
          ]
        }
      ],
      "source": [
        "! unzip {DestinationFolder}/*.zip -d {DestinationFolder} \\\n",
        "  && rm {DestinationFolder}/*.zip \\\n",
        "  && rm kaggle.json"
      ]
    },
    {
      "cell_type": "markdown",
      "metadata": {},
      "source": [
        "---"
      ]
    },
    {
      "cell_type": "markdown",
      "metadata": {},
      "source": [
        "# Load and Inspect Kaggle data"
      ]
    },
    {
      "cell_type": "code",
      "execution_count": 4,
      "metadata": {},
      "outputs": [
        {
          "data": {
            "text/html": [
              "<div>\n",
              "<style scoped>\n",
              "    .dataframe tbody tr th:only-of-type {\n",
              "        vertical-align: middle;\n",
              "    }\n",
              "\n",
              "    .dataframe tbody tr th {\n",
              "        vertical-align: top;\n",
              "    }\n",
              "\n",
              "    .dataframe thead th {\n",
              "        text-align: right;\n",
              "    }\n",
              "</style>\n",
              "<table border=\"1\" class=\"dataframe\">\n",
              "  <thead>\n",
              "    <tr style=\"text-align: right;\">\n",
              "      <th></th>\n",
              "      <th>Age in 5-year groups</th>\n",
              "      <th>Type of place of residence</th>\n",
              "      <th>Highest educational level</th>\n",
              "      <th>Wealth index combined</th>\n",
              "      <th>Births in last five years</th>\n",
              "      <th>Age of respondent at 1st birth</th>\n",
              "      <th>Hemoglobin level adjusted for altitude and smoking (g/dl - 1 decimal)</th>\n",
              "      <th>Anemia level</th>\n",
              "      <th>Have mosquito bed net for sleeping (from household questionnaire)</th>\n",
              "      <th>Smokes cigarettes</th>\n",
              "      <th>Current marital status</th>\n",
              "      <th>Currently residing with husband/partner</th>\n",
              "      <th>When child put to breast</th>\n",
              "      <th>Had fever in last two weeks</th>\n",
              "      <th>Hemoglobin level adjusted for altitude (g/dl - 1 decimal)</th>\n",
              "      <th>Anemia level.1</th>\n",
              "      <th>Taking iron pills, sprinkles or syrup</th>\n",
              "    </tr>\n",
              "  </thead>\n",
              "  <tbody>\n",
              "    <tr>\n",
              "      <th>0</th>\n",
              "      <td>40-44</td>\n",
              "      <td>Urban</td>\n",
              "      <td>Higher</td>\n",
              "      <td>Richest</td>\n",
              "      <td>1</td>\n",
              "      <td>22</td>\n",
              "      <td>NaN</td>\n",
              "      <td>NaN</td>\n",
              "      <td>Yes</td>\n",
              "      <td>No</td>\n",
              "      <td>Living with partner</td>\n",
              "      <td>Staying elsewhere</td>\n",
              "      <td>Immediately</td>\n",
              "      <td>No</td>\n",
              "      <td>NaN</td>\n",
              "      <td>NaN</td>\n",
              "      <td>Yes</td>\n",
              "    </tr>\n",
              "    <tr>\n",
              "      <th>1</th>\n",
              "      <td>35-39</td>\n",
              "      <td>Urban</td>\n",
              "      <td>Higher</td>\n",
              "      <td>Richest</td>\n",
              "      <td>1</td>\n",
              "      <td>28</td>\n",
              "      <td>NaN</td>\n",
              "      <td>NaN</td>\n",
              "      <td>Yes</td>\n",
              "      <td>No</td>\n",
              "      <td>Married</td>\n",
              "      <td>Living with her</td>\n",
              "      <td>Hours: 1</td>\n",
              "      <td>No</td>\n",
              "      <td>NaN</td>\n",
              "      <td>NaN</td>\n",
              "      <td>No</td>\n",
              "    </tr>\n",
              "    <tr>\n",
              "      <th>2</th>\n",
              "      <td>25-29</td>\n",
              "      <td>Urban</td>\n",
              "      <td>Higher</td>\n",
              "      <td>Richest</td>\n",
              "      <td>1</td>\n",
              "      <td>26</td>\n",
              "      <td>NaN</td>\n",
              "      <td>NaN</td>\n",
              "      <td>No</td>\n",
              "      <td>No</td>\n",
              "      <td>Married</td>\n",
              "      <td>Living with her</td>\n",
              "      <td>Immediately</td>\n",
              "      <td>No</td>\n",
              "      <td>NaN</td>\n",
              "      <td>NaN</td>\n",
              "      <td>No</td>\n",
              "    </tr>\n",
              "    <tr>\n",
              "      <th>3</th>\n",
              "      <td>25-29</td>\n",
              "      <td>Urban</td>\n",
              "      <td>Secondary</td>\n",
              "      <td>Richest</td>\n",
              "      <td>1</td>\n",
              "      <td>25</td>\n",
              "      <td>95.0</td>\n",
              "      <td>Moderate</td>\n",
              "      <td>Yes</td>\n",
              "      <td>No</td>\n",
              "      <td>Married</td>\n",
              "      <td>Living with her</td>\n",
              "      <td>105.0</td>\n",
              "      <td>No</td>\n",
              "      <td>114.0</td>\n",
              "      <td>Not anemic</td>\n",
              "      <td>No</td>\n",
              "    </tr>\n",
              "    <tr>\n",
              "      <th>4</th>\n",
              "      <td>20-24</td>\n",
              "      <td>Urban</td>\n",
              "      <td>Secondary</td>\n",
              "      <td>Richest</td>\n",
              "      <td>1</td>\n",
              "      <td>21</td>\n",
              "      <td>NaN</td>\n",
              "      <td>NaN</td>\n",
              "      <td>Yes</td>\n",
              "      <td>No</td>\n",
              "      <td>No longer living together/separated</td>\n",
              "      <td>NaN</td>\n",
              "      <td>Immediately</td>\n",
              "      <td>No</td>\n",
              "      <td>NaN</td>\n",
              "      <td>NaN</td>\n",
              "      <td>No</td>\n",
              "    </tr>\n",
              "  </tbody>\n",
              "</table>\n",
              "</div>"
            ],
            "text/plain": [
              "  Age in 5-year groups Type of place of residence Highest educational level  \\\n",
              "0                40-44                      Urban                    Higher   \n",
              "1                35-39                      Urban                    Higher   \n",
              "2                25-29                      Urban                    Higher   \n",
              "3                25-29                      Urban                 Secondary   \n",
              "4                20-24                      Urban                 Secondary   \n",
              "\n",
              "  Wealth index combined  Births in last five years  \\\n",
              "0               Richest                          1   \n",
              "1               Richest                          1   \n",
              "2               Richest                          1   \n",
              "3               Richest                          1   \n",
              "4               Richest                          1   \n",
              "\n",
              "   Age of respondent at 1st birth  \\\n",
              "0                              22   \n",
              "1                              28   \n",
              "2                              26   \n",
              "3                              25   \n",
              "4                              21   \n",
              "\n",
              "   Hemoglobin level adjusted for altitude and smoking (g/dl - 1 decimal)  \\\n",
              "0                                                NaN                       \n",
              "1                                                NaN                       \n",
              "2                                                NaN                       \n",
              "3                                               95.0                       \n",
              "4                                                NaN                       \n",
              "\n",
              "  Anemia level  \\\n",
              "0          NaN   \n",
              "1          NaN   \n",
              "2          NaN   \n",
              "3     Moderate   \n",
              "4          NaN   \n",
              "\n",
              "  Have mosquito bed net for sleeping (from household questionnaire)  \\\n",
              "0                                                Yes                  \n",
              "1                                                Yes                  \n",
              "2                                                 No                  \n",
              "3                                                Yes                  \n",
              "4                                                Yes                  \n",
              "\n",
              "  Smokes cigarettes               Current marital status  \\\n",
              "0                No                  Living with partner   \n",
              "1                No                              Married   \n",
              "2                No                              Married   \n",
              "3                No                              Married   \n",
              "4                No  No longer living together/separated   \n",
              "\n",
              "  Currently residing with husband/partner When child put to breast  \\\n",
              "0                       Staying elsewhere              Immediately   \n",
              "1                         Living with her                 Hours: 1   \n",
              "2                         Living with her              Immediately   \n",
              "3                         Living with her                    105.0   \n",
              "4                                     NaN              Immediately   \n",
              "\n",
              "  Had fever in last two weeks  \\\n",
              "0                          No   \n",
              "1                          No   \n",
              "2                          No   \n",
              "3                          No   \n",
              "4                          No   \n",
              "\n",
              "   Hemoglobin level adjusted for altitude (g/dl - 1 decimal) Anemia level.1  \\\n",
              "0                                                NaN                    NaN   \n",
              "1                                                NaN                    NaN   \n",
              "2                                                NaN                    NaN   \n",
              "3                                              114.0             Not anemic   \n",
              "4                                                NaN                    NaN   \n",
              "\n",
              "  Taking iron pills, sprinkles or syrup  \n",
              "0                                   Yes  \n",
              "1                                    No  \n",
              "2                                    No  \n",
              "3                                    No  \n",
              "4                                    No  "
            ]
          },
          "execution_count": 4,
          "metadata": {},
          "output_type": "execute_result"
        }
      ],
      "source": [
        "import pandas as pd\n",
        "pd.set_option('display.max_rows', None)\n",
        "df = pd.read_csv(f\"inputs/datasets/raw/children anemia.csv\")\n",
        "df.head()"
      ]
    },
    {
      "cell_type": "markdown",
      "metadata": {},
      "source": [
        "### Check Data\n",
        "This section provides a concise overview of the DataFrame. It includes key information such as the number of rows and columns, types of data in each column, memory usage, and a glimpse into the first few entries. This summary is crucial for getting an initial understanding of the data's structure and content."
      ]
    },
    {
      "cell_type": "code",
      "execution_count": 5,
      "metadata": {},
      "outputs": [
        {
          "name": "stdout",
          "output_type": "stream",
          "text": [
            "<class 'pandas.core.frame.DataFrame'>\n",
            "RangeIndex: 33924 entries, 0 to 33923\n",
            "Data columns (total 17 columns):\n",
            " #   Column                                                                 Non-Null Count  Dtype  \n",
            "---  ------                                                                 --------------  -----  \n",
            " 0   Age in 5-year groups                                                   33924 non-null  object \n",
            " 1   Type of place of residence                                             33924 non-null  object \n",
            " 2   Highest educational level                                              33924 non-null  object \n",
            " 3   Wealth index combined                                                  33924 non-null  object \n",
            " 4   Births in last five years                                              33924 non-null  int64  \n",
            " 5   Age of respondent at 1st birth                                         33924 non-null  int64  \n",
            " 6   Hemoglobin level adjusted for altitude and smoking (g/dl - 1 decimal)  13136 non-null  float64\n",
            " 7   Anemia level                                                           13136 non-null  object \n",
            " 8   Have mosquito bed net for sleeping (from household questionnaire)      33924 non-null  object \n",
            " 9   Smokes cigarettes                                                      33924 non-null  object \n",
            " 10  Current marital status                                                 33924 non-null  object \n",
            " 11  Currently residing with husband/partner                                32226 non-null  object \n",
            " 12  When child put to breast                                               21168 non-null  object \n",
            " 13  Had fever in last two weeks                                            30713 non-null  object \n",
            " 14  Hemoglobin level adjusted for altitude (g/dl - 1 decimal)              10182 non-null  float64\n",
            " 15  Anemia level.1                                                         10182 non-null  object \n",
            " 16  Taking iron pills, sprinkles or syrup                                  30713 non-null  object \n",
            "dtypes: float64(2), int64(2), object(13)\n",
            "memory usage: 4.4+ MB\n"
          ]
        }
      ],
      "source": [
        "df.info()"
      ]
    },
    {
      "cell_type": "markdown",
      "metadata": {},
      "source": [
        "---"
      ]
    },
    {
      "cell_type": "markdown",
      "metadata": {},
      "source": [
        "### Checking for Duplicate Column Names\n",
        "\n",
        "Before proceeding with data preprocessing, it's important to identify any duplicate column names in the dataset. Duplicate column names can cause confusion and errors in data analysis. This step ensures that each column has a unique identifier."
      ]
    },
    {
      "cell_type": "code",
      "execution_count": 6,
      "metadata": {},
      "outputs": [
        {
          "name": "stdout",
          "output_type": "stream",
          "text": [
            "Index([], dtype='object')\n"
          ]
        }
      ],
      "source": [
        "duplicate_column_names = df.columns[df.columns.duplicated()]\n",
        "\n",
        "# Display the results\n",
        "print(duplicate_column_names)"
      ]
    },
    {
      "cell_type": "markdown",
      "metadata": {},
      "source": [
        "### Renaming Columns for Clarity\n",
        "\n",
        "Despite the initial analysis showing no duplicate column names, there exists a possibility of confusion, particularly with columns labeled 'Anemia level'. To avoid any misunderstanding and potential misinterpretation of the data, it's been decided to rename these columns for enhanced clarity. This decision was made after consulting with the data provider. The column 'Anemia level' will be differentiated between mother and child, and the column 'Hemoglobin level adjusted for altitude' will be specified for the child. These changes will ensure that the data analysis is accurate and interpretable."
      ]
    },
    {
      "cell_type": "code",
      "execution_count": 7,
      "metadata": {},
      "outputs": [
        {
          "name": "stdout",
          "output_type": "stream",
          "text": [
            "Index(['Age in 5-year groups', 'Type of place of residence',\n",
            "       'Highest educational level', 'Wealth index combined',\n",
            "       'Births in last five years', 'Age of respondent at 1st birth',\n",
            "       'Hemoglobin level adjusted for altitude and smoking (g/dl - 1 decimal)',\n",
            "       'Anemia level mother',\n",
            "       'Have mosquito bed net for sleeping (from household questionnaire)',\n",
            "       'Smokes cigarettes', 'Current marital status',\n",
            "       'Currently residing with husband/partner', 'When child put to breast',\n",
            "       'Had fever in last two weeks',\n",
            "       'Hemoglobin level child adjusted for altitude (g/dl - 1 decimal)',\n",
            "       'Anemia level child', 'Taking iron pills, sprinkles or syrup'],\n",
            "      dtype='object')\n"
          ]
        }
      ],
      "source": [
        "# Rename columns for clarity\n",
        "df.rename(columns={'Anemia level': 'Anemia level mother', \n",
        "                   'Anemia level.1': 'Anemia level child',\n",
        "                   'Hemoglobin level adjusted for altitude (g/dl - 1 decimal)': 'Hemoglobin level child adjusted for altitude (g/dl - 1 decimal)'},\n",
        "          inplace=True)\n",
        "print(df.columns)"
      ]
    },
    {
      "cell_type": "markdown",
      "metadata": {},
      "source": [
        "### Rationale for Not Checking Duplicate Rows in the Dataset\n",
        "In the context of our dataset, which focuses on various health and demographic factors related to anemia in children, it is important to consider the nature of the data when deciding whether to check for duplicate rows.\n",
        "\n",
        "Each row in our dataset represents a unique individual, with their respective demographic and health-related characteristics. Even if the data in two rows appear to be identical, they still represent different individuals. In the realm of health and demographic studies, each individual case contributes to the overall statistical analysis, making every entry significant in its own right.\n",
        "\n",
        "Therefore, checking for and removing duplicate rows would not be appropriate in this context. It could lead to the unintended exclusion of valid data points, which are crucial for a comprehensive statistical analysis. "
      ]
    },
    {
      "cell_type": "markdown",
      "metadata": {},
      "source": [
        "---"
      ]
    },
    {
      "cell_type": "markdown",
      "metadata": {},
      "source": [
        "# Push data to Repo"
      ]
    },
    {
      "cell_type": "markdown",
      "metadata": {
        "id": "ltNetd085qHf"
      },
      "source": [
        "\n",
        "Push file with downloaded and minimally processed data to Repo"
      ]
    },
    {
      "cell_type": "code",
      "execution_count": 8,
      "metadata": {
        "id": "aKlnIozA4eQO",
        "outputId": "fd09bc1f-adb1-4511-f6ce-492a6af570c0"
      },
      "outputs": [],
      "source": [
        "# create a directory if it isn't exist\n",
        "output_dir = 'outputs/datasets/collection'\n",
        "if not os.path.exists(output_dir):\n",
        "    os.makedirs(output_dir)\n",
        "\n",
        "# Save DataFrame into file CSV\n",
        "df.to_csv(f\"{output_dir}/ChildrenAnemia.csv\", index=False)"
      ]
    }
  ],
  "metadata": {
    "accelerator": "GPU",
    "colab": {
      "name": "Data Practitioner Jupyter Notebook.ipynb",
      "provenance": [],
      "toc_visible": true
    },
    "interpreter": {
      "hash": "8b8334dab9339717f727a1deaf837b322d7a41c20d15cc86be99a8e69ceec8ce"
    },
    "kernelspec": {
      "display_name": "Python 3.8.12 64-bit ('3.8.12': pyenv)",
      "name": "python3"
    },
    "language_info": {
      "codemirror_mode": {
        "name": "ipython",
        "version": 3
      },
      "file_extension": ".py",
      "mimetype": "text/x-python",
      "name": "python",
      "nbconvert_exporter": "python",
      "pygments_lexer": "ipython3",
      "version": "3.12.0"
    },
    "orig_nbformat": 2
  },
  "nbformat": 4,
  "nbformat_minor": 2
}
